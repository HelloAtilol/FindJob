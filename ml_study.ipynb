{
 "cells": [
  {
   "cell_type": "markdown",
   "metadata": {},
   "source": [
    "# 机器学习\n",
    "\n",
    "---\n",
    "\n",
    "## 处理流程\n",
    "\n",
    "### 1. 数据的获取与预处理\n",
    "\n",
    "数据的获取：详见连接[从百度到知乎](https://github.com/HelloAtilol/leetcode/blob/master/%E7%88%AC%E8%99%AB_%E4%BB%8E%E7%99%BE%E5%BA%A6%E5%88%B0%E7%9F%A5%E4%B9%8E.md)    \n",
    "数据的预处理包括：\n",
    "- 描述性统计分析(样本数量与基本特征、均值、方差、数据分布...)\n",
    "- 异常值检测(缺失值处理、离群点检测...)\n",
    "- 特征选取(相关性检验、主成分分析PCA...)\n",
    "- 特征转换(标准化、归一化...)\n",
    "\n",
    "知识点：\n",
    "- [离群点检测](https://sklearn.apachecn.org/docs/0.21.3/26.html)\n",
    "- [相关性检验](https://www.cnblogs.com/ggzhangxiaochao/p/9100575.html)\n",
    "- 主成分分析：[原理](https://blog.csdn.net/program_developer/article/details/80632779)   [实现](https://sklearn.apachecn.org/docs/0.21.3/42.html)"
   ]
  },
  {
   "cell_type": "markdown",
   "metadata": {},
   "source": [
    "### 2. 任务分解与模型选择\n",
    "\n",
    "机器学习可大致划分为：有监督(回归、分类)和无监督(聚类)两种。区别在于，是否确定了y值。如果没确定y值，那么就是无监督；如果确定了y值，且y是连续变量，则为回归；y是分类变量，则为分类。\n",
    "\n",
    "**常用模型**   \n",
    "\n",
    "---\n",
    "**有监督：**\n",
    "- 线性模型(线性回归、逻辑回归、岭回归...): 回归模型通常都比较简单，模型训练较快，但同时效果较差。[原理与实现](https://sklearn.apachecn.org/docs/0.21.3/2.html)\n",
    "- 支持向量机(SVM): SVM可以看作是线性模型的高维展开，即用一条线不能解决的问题，展开成一个超平面来解决。SVM可以通过更换核函数和损失函数，提升模型效果。[原理与实现](https://sklearn.apachecn.org/docs/0.21.3/5.html)\n",
    "- KNN: 与K-Means原理基本一样。[原理](https://blog.csdn.net/sinat_36710456/article/details/88019323)\n",
    "- 朴素贝叶斯: 核心是条件概率P(B|A)，即在A发生的情况下，B发生的概率。朴素贝叶斯的朴素，表示样本特征之间相互独立。[原理与实现](https://sklearn.apachecn.org/docs/0.21.3/10.html)\n",
    "- 决策树: 通过建立树模型对样本进行分类(也可以回归)，[决策树算法进化](https://shuwoom.com/?p=1452)：ID3->C4.5->CART；随机森林(RF)就是多棵独立的决策树，共同投票决定最终分类。[实现](https://sklearn.apachecn.org/docs/0.21.3/11.html)\n",
    "- AdaBoost、GBDT、XGBoost: 都属于集成学习，即用多个弱分类器结合形成一个稳定的强分类器。三种模型之间的[关系](https://blog.csdn.net/hellozhxy/article/details/82143554)：基本逻辑一样，构造方法、损失函数等有较大差别。AdaBoost和GBDT可以在`sklearn`[实现](https://sklearn.apachecn.org/docs/0.21.3/12.html)，XGBoost有专用的[包](https://xgboost.readthedocs.io/en/latest/python/)。\n",
    "- 深度学习(TODO)    \n",
    "---\n",
    "**无监督：**\n",
    "- K-Means: 最近邻原则。可以尝试自己实现。\n",
    "- 高斯混合模型：[原理与实现](https://sklearn.apachecn.org/docs/0.21.3/20.html)\n",
    "- LDA主题模型    [原理](https://zhuanlan.zhihu.com/p/31470216)    [实现](https://www.jianshu.com/p/9918cd4d09c1)"
   ]
  },
  {
   "cell_type": "markdown",
   "metadata": {},
   "source": [
    "### 3. 模型评估\n",
    "\n",
    "针对不同目的的模型有着不同的评价指标。\n",
    "\n",
    "---\n",
    "**回归：**判断回归模型对数据拟合效果的好坏\n",
    "- [常用指标](https://blog.csdn.net/xingfutianshi1018/article/details/79685208)：R-square、SSE等；\n",
    "- [实现](https://www.jianshu.com/p/f8a66a69109d)\n",
    "\n",
    "---\n",
    "**分类：**判断模型分类能力的好坏\n",
    "- [混淆矩阵](https://blog.csdn.net/Orange_Spotty_Cat/article/details/80520839)包括：准确率(Accuracy)、精准率(Precision)、召回率(Recall)、F1-Score。[实现](https://sklearn.apachecn.org/docs/0.21.3/29.html)\n",
    "- [ROC, AUC, KS](https://blog.csdn.net/qq_14809159/article/details/96773046)    \n",
    "ps: 不同的分类任务，对于评价指标的选择也是不一样的，一般而言，使用F1-score就可以，但是不排除一些特殊场景。     \n",
    "例如，疾病的分类，一般会采用召回率作为有效考虑指标，即尽量避免把患病的样本都找出来；    \n",
    "在做用户贷前评分时，则更有限考虑精确率，避免\"误杀\"正常用户。    \n",
    "KS一般用来确定阈值，模型的预测结果通常是样本是这个类别的概率，超过0.5就代表是这个类别，但是在有些情况，效果不好，可以用ks确定新的阈值。  \n",
    "此外，ROC和AUC对数据的不均衡问题是不敏感的，这也是为什么很多论文使用这些指标。    \n",
    "\n",
    "---\n",
    "**聚类：**\n",
    "- 一般聚类：[轮廓系数](https://www.jianshu.com/p/335b376174d4)\n",
    "- LDA：[困惑度](https://blog.csdn.net/jiaqiang_ruan/article/details/77989459?locationNum=2&fps=1)    \n",
    "ps: 聚类的评价指标一般都是用来找**最佳分类数目**即K值。一般在5左右的拐点，就是想找的K值。LDA的K值可以很大，20都有可能。\n"
   ]
  },
  {
   "cell_type": "markdown",
   "metadata": {},
   "source": [
    "### 4. ABTest与假设检验\n",
    "\n",
    "- **为什么ABTest要分成两部分，为什么不可以直接全量上线新模型/新版本？**    \n",
    "ABTest的目的是保证新旧版本在相同场景下的实际表现，如果全量上线新模型/新版本，在其他因素不同的情况下，不能直接与旧版本/旧模型进行比较。例如。在新冠疫情发生前，上线了新版本，在疫情发生后，用户的活跃度大幅度提升。如果不进行ABTest，并不能证明用户活跃度的提升是新版本带来的，还是疫情带来的。\n",
    "\n",
    "- **ABTest如何证明新版本/新模型有用？**    \n",
    "对各种因素和指标进行假设检验(t-test)。"
   ]
  }
 ],
 "metadata": {
  "kernelspec": {
   "display_name": "Python 3",
   "language": "python",
   "name": "python3"
  },
  "language_info": {
   "codemirror_mode": {
    "name": "ipython",
    "version": 3
   },
   "file_extension": ".py",
   "mimetype": "text/x-python",
   "name": "python",
   "nbconvert_exporter": "python",
   "pygments_lexer": "ipython3",
   "version": "3.7.0"
  }
 },
 "nbformat": 4,
 "nbformat_minor": 2
}
